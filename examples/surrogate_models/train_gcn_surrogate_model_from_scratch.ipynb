{
 "cells": [
  {
   "cell_type": "markdown",
   "id": "e58e0595-8022-4e0a-a224-a2c09bf89cbe",
   "metadata": {},
   "source": [
    "# Demo on Training GCN Surrogate Model from Scratch"
   ]
  },
  {
   "cell_type": "markdown",
   "id": "ec06496e-e12d-471a-a996-88a03281cbd3",
   "metadata": {},
   "source": [
    "###  Introduction\n",
    "This notebook demonstrates how to train a Graph Convolutional Network (GCN) for performance of parametrized quantum circuits (PQCs). \n",
    "The circuits are first converted into **directed acyclic graphs (DAGs)** that capture structural and gate-based information."
   ]
  },
  {
   "cell_type": "markdown",
   "id": "57ded743-9bfd-47e4-9109-5f7b26e9fa96",
   "metadata": {},
   "source": [
    "### Imports and Setup\n",
    "\n",
    "First, we suppress PyTorch Warnings and ensure proper dependency loading. Then, we import core modules and helper functions from our project structure."
   ]
  },
  {
   "cell_type": "code",
   "execution_count": 1,
   "id": "546a6c36-237c-467d-8d82-742ba80a49c5",
   "metadata": {},
   "outputs": [
    {
     "name": "stdout",
     "output_type": "stream",
     "text": [
      "Project root set to: C:\\SQuASH\n"
     ]
    }
   ],
   "source": [
    "# Suppress PyTorch Warnings and ensure proper dependency loading\n",
    "import warnings\n",
    "import os\n",
    "import sys\n",
    "\n",
    "warnings.filterwarnings(\"ignore\")\n",
    "warnings.filterwarnings(\"ignore\", category=UserWarning)\n",
    "project_root = os.path.abspath(os.path.join(os.getcwd(), '..', '..')) # Go two levels up from the notebook location to reach project root\n",
    "\n",
    "if project_root not in sys.path:\n",
    "    sys.path.insert(0, project_root)\n",
    "print(\"Project root set to:\", project_root)"
   ]
  },
  {
   "cell_type": "code",
   "execution_count": 2,
   "id": "90a57e15-6339-4514-89ec-c2cb75beaa39",
   "metadata": {},
   "outputs": [],
   "source": [
    "import os\n",
    "import json\n",
    "import torch\n",
    "import torch.nn as nn\n",
    "from datetime import datetime\n",
    "\n",
    "from config import get_default_model_config_by_search_space, PathConfig\n",
    "from surrogate_models.prepare_dataset.gen_dataset import create_gcn_data\n",
    "from surrogate_models.architectures.gnn.gnn_model import RegGNN\n",
    "from surrogate_models.architectures.gnn.gcn_runner import set_seed, prepare_paths_and_config, prepare_dataset, prepare_dataloaders, save_json, train, save_results, plot_metrics\n",
    "from util.data_loader import load_data, save_data\n",
    "from util.config_utils import get_gate_set_and_features_by_name\n",
    "from util import split\n",
    "from torch_geometric.loader import DataLoader"
   ]
  },
  {
   "cell_type": "markdown",
   "id": "520496a3-460d-4813-88f1-b642fe742b6b",
   "metadata": {},
   "source": [
    "### 📁 Step 1: Prepare Paths and Configuration"
   ]
  },
  {
   "cell_type": "markdown",
   "id": "6ab0b8ff-3dfb-4d8a-8fb5-bdbbe93dd7e9",
   "metadata": {},
   "source": [
    "The configuration for the surrogate model is defined and loaded in two stages: \n",
    " - setting the search space and device\n",
    " - specify config for the surrogate model"
   ]
  },
  {
   "cell_type": "code",
   "execution_count": 3,
   "id": "93c640b1-149b-460e-958f-056745c35edf",
   "metadata": {},
   "outputs": [],
   "source": [
    "search_space = 'ghz_a'\n",
    "device = torch.device(\"cuda:0\" if torch.cuda.is_available() else \"cpu\")"
   ]
  },
  {
   "cell_type": "markdown",
   "id": "b56a451b-6582-4c1d-ad05-01c69b6e04a0",
   "metadata": {},
   "source": [
    "This sets the quantum circuit benchmark domain (search_space) and selects the device (cpu or cuda) for training."
   ]
  },
  {
   "cell_type": "code",
   "execution_count": 4,
   "id": "4cc3a6f9-7fdc-4d1b-a746-ce1d9ce25c91",
   "metadata": {},
   "outputs": [
    {
     "name": "stdout",
     "output_type": "stream",
     "text": [
      "Config (incl. model config):\n",
      "{\n",
      "    \"device\": \"cpu\",\n",
      "    \"seed\": 42,\n",
      "    \"runseed\": 42,\n",
      "    \"batch_size\": 32,\n",
      "    \"num_workers\": 0,\n",
      "    \"epochs\": 3,\n",
      "    \"emb_dim\": 1200,\n",
      "    \"layer_num\": 8,\n",
      "    \"qubit_num\": 3,\n",
      "    \"num_node_features\": 7,\n",
      "    \"drop_ratio\": 0.012714767230404513,\n",
      "    \"lr\": 0.00042048670814195114,\n",
      "    \"decay\": 1.2239395743425164e-06,\n",
      "    \"JK\": \"mean\",\n",
      "    \"patience\": 7,\n",
      "    \"metric\": \"spearman\",\n",
      "    \"graph_pooling\": \"max\",\n",
      "    \"n_estimators\": null,\n",
      "    \"max_depth\": null,\n",
      "    \"random_state\": null,\n",
      "    \"optuna_trials\": null,\n",
      "    \"min_samples_split\": null,\n",
      "    \"min_samples_leaf\": null,\n",
      "    \"max_features\": null,\n",
      "    \"n_jobs\": null,\n",
      "    \"PATHS\": {\n",
      "        \"optuna_studies\": \"C:\\\\SQuASH\\\\surrogate_models/tuning\\\\studies\",\n",
      "        \"raw_data\": \"C:\\\\SQuASH\\\\data/raw_data/\",\n",
      "        \"gcn_data\": \"C:\\\\SQuASH\\\\data/processed_data/gcn_processed_data\",\n",
      "        \"rf_data\": \"C:\\\\SQuASH\\\\data\\\\rf_data\",\n",
      "        \"trained_models\": \"C:\\\\SQuASH\\\\surrogate_models\\\\trained_models\",\n",
      "        \"benchmark\": \"C:\\\\SQuASH\\\\benchmark\\\\results\"\n",
      "    },\n",
      "    \"timestamp\": \"2025-04-19_15-14-17\"\n",
      "}\n"
     ]
    }
   ],
   "source": [
    "config, gate_set, timestamp = prepare_paths_and_config(search_space, device)\n",
    "print(\"Config (incl. model config):\")\n",
    "print(json.dumps(config, indent=4, default=str))\n",
    "\n",
    "config[\"epochs\"] = 40 # set the max.number of training epochs to 4"
   ]
  },
  {
   "cell_type": "markdown",
   "id": "51d97b7c-99e9-45ef-87b7-c33b046d9010",
   "metadata": {
    "jp-MarkdownHeadingCollapsed": true
   },
   "source": [
    "#### ⚙️ Model Configuration: How It Works"
   ]
  },
  {
   "cell_type": "markdown",
   "id": "f00fef0d-efff-4718-84d8-614798f93c5e",
   "metadata": {},
   "source": [
    "The function `prepare_paths_and_config()` in  \n",
    "`surrogate_models.architectures.gnn.gcn_runner` is responsible for initializing model parameters and file paths.  \n",
    "It internally calls:\n",
    "\n",
    "```python\n",
    "model_config = get_default_model_config_by_search_space(\n",
    "    model_type=\"gcn\",\n",
    "    search_space=search_space,\n",
    "    features=features,\n",
    "    device=device\n",
    ")\n",
    "```\n",
    "This function is defined in `config.py` and retrieves a predefined set of hyperparameters based on the model type (e.g., `\"gcn\"`) and benchmark search space (e.g., `\"ghz_a\"`)"
   ]
  },
  {
   "cell_type": "markdown",
   "id": "cd6918ea-a935-41f7-9dfd-bcfeaa9b8045",
   "metadata": {},
   "source": [
    "**Fallback Mechanism**  \n",
    "If no external `JSON` config is available, the method falls back to the hardcoded default in `_get_default_model_config()` (also in `config.py`).  \n",
    "Example: Default GCN Config for `ghz_a`:\n",
    "```python\n",
    "{\n",
    "    'emb_dim': 1200,                 # Hidden embedding dimension\n",
    "    'layer_num': 8,                  # Number of GNN layers\n",
    "    'qubit_num': 3,                  # Number of qubits (used for metadata/consistency)\n",
    "    'num_node_features': features,  # Input feature dimension (from dataset)\n",
    "    'drop_ratio': 0.0127,            # Dropout probability\n",
    "    'batch_size': 32,                # Training batch size\n",
    "    'epochs': 3,                     # Max training epochs (early stopping may stop earlier)\n",
    "    'lr': 0.00042,                   # Learning rate\n",
    "    'decay': 1.22e-6,                # Weight decay (L2 regularization)\n",
    "    'JK': 'mean',                    # Jumping Knowledge aggregation strategy\n",
    "    'graph_pooling': 'max',          # Graph-level pooling method\n",
    "    'metric': 'spearman',            # Evaluation metric (e.g., for ranking correlation)\n",
    "    \n",
    "    # Additional global settings added later\n",
    "    'device': device,                # Either 'cpu' or 'cuda'\n",
    "    'seed': 42,                      # Random seed for reproducibility\n",
    "    'runseed': 42,                   # Secondary run seed\n",
    "    'num_workers': 0,                # Dataloader parallelism (set 0 for CPU)\n",
    "    'patience': 7                    # Early stopping patience\n",
    "}\n",
    "```"
   ]
  },
  {
   "cell_type": "markdown",
   "id": "194afe9c-e505-4228-864d-f6a6a2713ab0",
   "metadata": {},
   "source": [
    "**Flexible Configuration**  \n",
    "This dictionary-style configuration allows for easy, dynamic updates during runtime.\n",
    "For example, to change the number of training epochs:\n",
    "\n",
    "```python\n",
    "config[\"epochs\"] = 30\n",
    "```\n",
    "\n",
    "This sets the maximum number of training epochs.\n",
    "Note: early stopping can still terminate training earlier, based on the configured patience and validation performance."
   ]
  },
  {
   "cell_type": "markdown",
   "id": "877d1da7-38b9-49c2-b263-7229aaac78fc",
   "metadata": {},
   "source": [
    "### 🔧 Step 2: Set Random Seed"
   ]
  },
  {
   "cell_type": "markdown",
   "id": "15075e16-190f-4050-b307-7378e46e494c",
   "metadata": {},
   "source": [
    "For reproducibility, it's important to set all random seeds."
   ]
  },
  {
   "cell_type": "code",
   "execution_count": 5,
   "id": "34375aa7-fcb7-4771-b3fb-5a6b22ac2c2a",
   "metadata": {},
   "outputs": [],
   "source": [
    "set_seed(config[\"runseed\"])"
   ]
  },
  {
   "cell_type": "markdown",
   "id": "60af90d8-a4e1-4204-b699-e7262d0e507f",
   "metadata": {},
   "source": [
    "### 📦 Step 3: Load or Generate Dataset\n",
    "\n",
    "To be processed by GCN, the data—i.e. quantum circuits—need to be transformed into DAGs. If preprocessed data is not found, it's automatically created from raw quantum circuit files."
   ]
  },
  {
   "cell_type": "code",
   "execution_count": 6,
   "id": "6cd5440b-ed63-46fd-a424-54debf1c386d",
   "metadata": {},
   "outputs": [
    {
     "name": "stdout",
     "output_type": "stream",
     "text": [
      "[INFO] GCN data not found. Generating from raw circuits...\n",
      "Successfully saved to C:\\SQuASH\\data/processed_data/gcn_processed_data\\demo_dataset_ghz_a.pt: 18378 items\n",
      "[INFO] Train: 14702, Val: 2756, Test: 920\n",
      "Successfully saved to C:\\SQuASH\\data/processed_data/gcn_processed_data\\test_gcn_ghz_a_2025-04-19_15-14-17.pt: 920 items\n"
     ]
    }
   ],
   "source": [
    "data_name = f\"demo_dataset_ghz_a\"\n",
    "data_path = os.path.join(config['PATHS']['gcn_data'], f'{data_name}.pt')\n",
    "train_data, val_data, test_data = prepare_dataset(data_name, data_path, gate_set, search_space, config, timestamp)"
   ]
  },
  {
   "cell_type": "markdown",
   "id": "b793a862-fe96-46af-b60c-aae9c3d02255",
   "metadata": {},
   "source": [
    "### 🧪 Step 4: Prepare DataLoaders\n",
    "\n",
    "We use PyTorch Geometric's `DataLoader` to batch and feed our graph data efficiently into the GCN."
   ]
  },
  {
   "cell_type": "code",
   "execution_count": 7,
   "id": "b02171b0-e4a6-438f-bdf1-e7b971abe91c",
   "metadata": {},
   "outputs": [],
   "source": [
    "train_loader, val_loader, test_loader = prepare_dataloaders(\n",
    "    train_data, val_data, test_data,\n",
    "    batch_size=config['batch_size'],\n",
    "    num_workers=config['num_workers']\n",
    ")"
   ]
  },
  {
   "cell_type": "markdown",
   "id": "89e55f47-0a1f-49d6-87c1-2c7fda4488a2",
   "metadata": {},
   "source": [
    "### 📝 Step 5: Save Model Configuration\n",
    "\n",
    "We persist the configuration used for this training session for reproducibility.\n"
   ]
  },
  {
   "cell_type": "code",
   "execution_count": 8,
   "id": "dbdba602-2985-44b1-ab77-4bd7f07004e9",
   "metadata": {},
   "outputs": [],
   "source": [
    "model_name = f\"demo_gcn_{search_space}_{timestamp}\"\n",
    "model_logs_path = os.path.join(config['PATHS'][f'trained_models'], f'{model_name}')\n",
    "os.makedirs(model_logs_path, exist_ok=True)\n",
    "save_json(os.path.join(model_logs_path, f'{model_name}_config.json'), config)"
   ]
  },
  {
   "cell_type": "markdown",
   "id": "fec2ca8f-cbc5-41ff-abf6-d84973a31240",
   "metadata": {},
   "source": [
    "### 🚀 Step 6: Train the GCN Model\n",
    "We train a `RegGNN` model for a fixed number of epochs. The best model is selected based on validation performance using Spearman's rho (or MSE or R2)."
   ]
  },
  {
   "cell_type": "code",
   "execution_count": 9,
   "id": "6e48f60d-b5ee-4909-93ad-a132cd5721df",
   "metadata": {},
   "outputs": [
    {
     "name": "stdout",
     "output_type": "stream",
     "text": [
      "[INFO] Starting training\n",
      "Device: cpu\n",
      "\n",
      "Epoch 1/40\n"
     ]
    },
    {
     "name": "stderr",
     "output_type": "stream",
     "text": [
      "Training: 100%|██████████████████████████████████████████████████████████████████████████████████████████████████████████████████████████████████████| 460/460 [02:22<00:00,  3.24it/s]\n",
      "Validation: 100%|██████████████████████████████████████████████████████████████████████████████████████████████████████████████████████████████████████| 87/87 [00:06<00:00, 13.36it/s]\n"
     ]
    },
    {
     "name": "stdout",
     "output_type": "stream",
     "text": [
      "Train Loss: 0.1157, Validation Loss: 0.0180\n",
      "Train Spearman: 0.3552, Validation Spearman: 0.6446\n",
      "[INFO] Best model saved to C:\\SQuASH\\surrogate_models\\trained_models\\demo_gcn_ghz_a_2025-04-19_15-14-17\\demo_gcn_ghz_a_2025-04-19_15-14-17.pth\n",
      "\n",
      "Epoch 2/40\n"
     ]
    },
    {
     "name": "stderr",
     "output_type": "stream",
     "text": [
      "Training: 100%|██████████████████████████████████████████████████████████████████████████████████████████████████████████████████████████████████████| 460/460 [01:57<00:00,  3.90it/s]\n",
      "Validation: 100%|██████████████████████████████████████████████████████████████████████████████████████████████████████████████████████████████████████| 87/87 [00:06<00:00, 13.56it/s]\n"
     ]
    },
    {
     "name": "stdout",
     "output_type": "stream",
     "text": [
      "Train Loss: 0.0170, Validation Loss: 0.0138\n",
      "Train Spearman: 0.6442, Validation Spearman: 0.6644\n",
      "[INFO] Best model saved to C:\\SQuASH\\surrogate_models\\trained_models\\demo_gcn_ghz_a_2025-04-19_15-14-17\\demo_gcn_ghz_a_2025-04-19_15-14-17.pth\n",
      "\n",
      "Epoch 3/40\n"
     ]
    },
    {
     "name": "stderr",
     "output_type": "stream",
     "text": [
      "Training: 100%|██████████████████████████████████████████████████████████████████████████████████████████████████████████████████████████████████████| 460/460 [02:06<00:00,  3.62it/s]\n",
      "Validation: 100%|██████████████████████████████████████████████████████████████████████████████████████████████████████████████████████████████████████| 87/87 [00:07<00:00, 11.69it/s]\n"
     ]
    },
    {
     "name": "stdout",
     "output_type": "stream",
     "text": [
      "Train Loss: 0.0156, Validation Loss: 0.0136\n",
      "Train Spearman: 0.6739, Validation Spearman: 0.6602\n",
      "\n",
      "Epoch 4/40\n"
     ]
    },
    {
     "name": "stderr",
     "output_type": "stream",
     "text": [
      "Training: 100%|██████████████████████████████████████████████████████████████████████████████████████████████████████████████████████████████████████| 460/460 [06:09<00:00,  1.25it/s]\n",
      "Validation: 100%|██████████████████████████████████████████████████████████████████████████████████████████████████████████████████████████████████████| 87/87 [00:09<00:00,  9.23it/s]\n"
     ]
    },
    {
     "name": "stdout",
     "output_type": "stream",
     "text": [
      "Train Loss: 0.0147, Validation Loss: 0.0241\n",
      "Train Spearman: 0.6959, Validation Spearman: 0.6181\n",
      "[INFO] Overfitting detected (1/5)\n",
      "\n",
      "Epoch 5/40\n"
     ]
    },
    {
     "name": "stderr",
     "output_type": "stream",
     "text": [
      "Training: 100%|██████████████████████████████████████████████████████████████████████████████████████████████████████████████████████████████████████| 460/460 [06:55<00:00,  1.11it/s]\n",
      "Validation: 100%|██████████████████████████████████████████████████████████████████████████████████████████████████████████████████████████████████████| 87/87 [00:09<00:00,  9.38it/s]\n"
     ]
    },
    {
     "name": "stdout",
     "output_type": "stream",
     "text": [
      "Train Loss: 0.0149, Validation Loss: 0.0142\n",
      "Train Spearman: 0.6900, Validation Spearman: 0.7134\n",
      "[INFO] Best model saved to C:\\SQuASH\\surrogate_models\\trained_models\\demo_gcn_ghz_a_2025-04-19_15-14-17\\demo_gcn_ghz_a_2025-04-19_15-14-17.pth\n",
      "\n",
      "Epoch 6/40\n"
     ]
    },
    {
     "name": "stderr",
     "output_type": "stream",
     "text": [
      "Training: 100%|██████████████████████████████████████████████████████████████████████████████████████████████████████████████████████████████████████| 460/460 [06:58<00:00,  1.10it/s]\n",
      "Validation: 100%|██████████████████████████████████████████████████████████████████████████████████████████████████████████████████████████████████████| 87/87 [00:09<00:00,  8.73it/s]\n"
     ]
    },
    {
     "name": "stdout",
     "output_type": "stream",
     "text": [
      "Train Loss: 0.0141, Validation Loss: 0.0135\n",
      "Train Spearman: 0.7076, Validation Spearman: 0.6843\n",
      "\n",
      "Epoch 7/40\n"
     ]
    },
    {
     "name": "stderr",
     "output_type": "stream",
     "text": [
      "Training: 100%|██████████████████████████████████████████████████████████████████████████████████████████████████████████████████████████████████████| 460/460 [06:51<00:00,  1.12it/s]\n",
      "Validation: 100%|██████████████████████████████████████████████████████████████████████████████████████████████████████████████████████████████████████| 87/87 [00:09<00:00,  9.34it/s]\n"
     ]
    },
    {
     "name": "stdout",
     "output_type": "stream",
     "text": [
      "Train Loss: 0.0147, Validation Loss: 0.0123\n",
      "Train Spearman: 0.6976, Validation Spearman: 0.7353\n",
      "[INFO] Best model saved to C:\\SQuASH\\surrogate_models\\trained_models\\demo_gcn_ghz_a_2025-04-19_15-14-17\\demo_gcn_ghz_a_2025-04-19_15-14-17.pth\n",
      "\n",
      "Epoch 8/40\n"
     ]
    },
    {
     "name": "stderr",
     "output_type": "stream",
     "text": [
      "Training: 100%|██████████████████████████████████████████████████████████████████████████████████████████████████████████████████████████████████████| 460/460 [06:52<00:00,  1.11it/s]\n",
      "Validation: 100%|██████████████████████████████████████████████████████████████████████████████████████████████████████████████████████████████████████| 87/87 [00:10<00:00,  8.53it/s]\n"
     ]
    },
    {
     "name": "stdout",
     "output_type": "stream",
     "text": [
      "Train Loss: 0.0139, Validation Loss: 0.0130\n",
      "Train Spearman: 0.7116, Validation Spearman: 0.7214\n",
      "[INFO] Overfitting detected (1/5)\n",
      "\n",
      "Epoch 9/40\n"
     ]
    },
    {
     "name": "stderr",
     "output_type": "stream",
     "text": [
      "Training: 100%|██████████████████████████████████████████████████████████████████████████████████████████████████████████████████████████████████████| 460/460 [06:48<00:00,  1.13it/s]\n",
      "Validation: 100%|██████████████████████████████████████████████████████████████████████████████████████████████████████████████████████████████████████| 87/87 [00:09<00:00,  8.89it/s]\n"
     ]
    },
    {
     "name": "stdout",
     "output_type": "stream",
     "text": [
      "Train Loss: 0.0137, Validation Loss: 0.0114\n",
      "Train Spearman: 0.7140, Validation Spearman: 0.7099\n",
      "\n",
      "Epoch 10/40\n"
     ]
    },
    {
     "name": "stderr",
     "output_type": "stream",
     "text": [
      "Training: 100%|██████████████████████████████████████████████████████████████████████████████████████████████████████████████████████████████████████| 460/460 [06:41<00:00,  1.14it/s]\n",
      "Validation: 100%|██████████████████████████████████████████████████████████████████████████████████████████████████████████████████████████████████████| 87/87 [00:09<00:00,  8.88it/s]\n"
     ]
    },
    {
     "name": "stdout",
     "output_type": "stream",
     "text": [
      "Train Loss: 0.0131, Validation Loss: 0.0106\n",
      "Train Spearman: 0.7171, Validation Spearman: 0.7609\n",
      "[INFO] Best model saved to C:\\SQuASH\\surrogate_models\\trained_models\\demo_gcn_ghz_a_2025-04-19_15-14-17\\demo_gcn_ghz_a_2025-04-19_15-14-17.pth\n",
      "\n",
      "Epoch 11/40\n"
     ]
    },
    {
     "name": "stderr",
     "output_type": "stream",
     "text": [
      "Training: 100%|██████████████████████████████████████████████████████████████████████████████████████████████████████████████████████████████████████| 460/460 [06:36<00:00,  1.16it/s]\n",
      "Validation: 100%|██████████████████████████████████████████████████████████████████████████████████████████████████████████████████████████████████████| 87/87 [00:09<00:00,  9.44it/s]\n"
     ]
    },
    {
     "name": "stdout",
     "output_type": "stream",
     "text": [
      "Train Loss: 0.0124, Validation Loss: 0.0119\n",
      "Train Spearman: 0.7320, Validation Spearman: 0.7382\n",
      "[INFO] Overfitting detected (1/5)\n",
      "\n",
      "Epoch 12/40\n"
     ]
    },
    {
     "name": "stderr",
     "output_type": "stream",
     "text": [
      "Training: 100%|██████████████████████████████████████████████████████████████████████████████████████████████████████████████████████████████████████| 460/460 [06:34<00:00,  1.17it/s]\n",
      "Validation: 100%|██████████████████████████████████████████████████████████████████████████████████████████████████████████████████████████████████████| 87/87 [00:09<00:00,  9.10it/s]\n"
     ]
    },
    {
     "name": "stdout",
     "output_type": "stream",
     "text": [
      "Train Loss: 0.0112, Validation Loss: 0.0125\n",
      "Train Spearman: 0.7495, Validation Spearman: 0.7542\n",
      "[INFO] Overfitting detected (2/5)\n",
      "\n",
      "Epoch 13/40\n"
     ]
    },
    {
     "name": "stderr",
     "output_type": "stream",
     "text": [
      "Training: 100%|██████████████████████████████████████████████████████████████████████████████████████████████████████████████████████████████████████| 460/460 [06:36<00:00,  1.16it/s]\n",
      "Validation: 100%|██████████████████████████████████████████████████████████████████████████████████████████████████████████████████████████████████████| 87/87 [00:08<00:00, 10.01it/s]\n"
     ]
    },
    {
     "name": "stdout",
     "output_type": "stream",
     "text": [
      "Train Loss: 0.0109, Validation Loss: 0.0112\n",
      "Train Spearman: 0.7520, Validation Spearman: 0.7377\n",
      "\n",
      "Epoch 14/40\n"
     ]
    },
    {
     "name": "stderr",
     "output_type": "stream",
     "text": [
      "Training: 100%|██████████████████████████████████████████████████████████████████████████████████████████████████████████████████████████████████████| 460/460 [06:13<00:00,  1.23it/s]\n",
      "Validation: 100%|██████████████████████████████████████████████████████████████████████████████████████████████████████████████████████████████████████| 87/87 [00:09<00:00,  9.26it/s]\n"
     ]
    },
    {
     "name": "stdout",
     "output_type": "stream",
     "text": [
      "Train Loss: 0.0104, Validation Loss: 0.0156\n",
      "Train Spearman: 0.7599, Validation Spearman: 0.7402\n",
      "[INFO] Overfitting detected (1/5)\n",
      "\n",
      "Epoch 15/40\n"
     ]
    },
    {
     "name": "stderr",
     "output_type": "stream",
     "text": [
      "Training: 100%|██████████████████████████████████████████████████████████████████████████████████████████████████████████████████████████████████████| 460/460 [06:12<00:00,  1.24it/s]\n",
      "Validation: 100%|██████████████████████████████████████████████████████████████████████████████████████████████████████████████████████████████████████| 87/87 [00:10<00:00,  8.19it/s]\n"
     ]
    },
    {
     "name": "stdout",
     "output_type": "stream",
     "text": [
      "Train Loss: 0.0101, Validation Loss: 0.0112\n",
      "Train Spearman: 0.7621, Validation Spearman: 0.7523\n",
      "\n",
      "Epoch 16/40\n"
     ]
    },
    {
     "name": "stderr",
     "output_type": "stream",
     "text": [
      "Training: 100%|██████████████████████████████████████████████████████████████████████████████████████████████████████████████████████████████████████| 460/460 [06:35<00:00,  1.16it/s]\n",
      "Validation: 100%|██████████████████████████████████████████████████████████████████████████████████████████████████████████████████████████████████████| 87/87 [00:12<00:00,  7.16it/s]\n"
     ]
    },
    {
     "name": "stdout",
     "output_type": "stream",
     "text": [
      "Train Loss: 0.0095, Validation Loss: 0.0104\n",
      "Train Spearman: 0.7697, Validation Spearman: 0.7495\n",
      "\n",
      "Epoch 17/40\n"
     ]
    },
    {
     "name": "stderr",
     "output_type": "stream",
     "text": [
      "Training: 100%|██████████████████████████████████████████████████████████████████████████████████████████████████████████████████████████████████████| 460/460 [06:47<00:00,  1.13it/s]\n",
      "Validation: 100%|██████████████████████████████████████████████████████████████████████████████████████████████████████████████████████████████████████| 87/87 [00:14<00:00,  6.19it/s]\n"
     ]
    },
    {
     "name": "stdout",
     "output_type": "stream",
     "text": [
      "Train Loss: 0.0090, Validation Loss: 0.0118\n",
      "Train Spearman: 0.7755, Validation Spearman: 0.7623\n",
      "[INFO] Best model saved to C:\\SQuASH\\surrogate_models\\trained_models\\demo_gcn_ghz_a_2025-04-19_15-14-17\\demo_gcn_ghz_a_2025-04-19_15-14-17.pth\n",
      "[INFO] Overfitting detected (1/5)\n",
      "\n",
      "Epoch 18/40\n"
     ]
    },
    {
     "name": "stderr",
     "output_type": "stream",
     "text": [
      "Training: 100%|██████████████████████████████████████████████████████████████████████████████████████████████████████████████████████████████████████| 460/460 [08:24<00:00,  1.10s/it]\n",
      "Validation: 100%|██████████████████████████████████████████████████████████████████████████████████████████████████████████████████████████████████████| 87/87 [00:12<00:00,  6.95it/s]\n"
     ]
    },
    {
     "name": "stdout",
     "output_type": "stream",
     "text": [
      "Train Loss: 0.0080, Validation Loss: 0.0123\n",
      "Train Spearman: 0.7868, Validation Spearman: 0.7448\n",
      "[INFO] Overfitting detected (2/5)\n",
      "\n",
      "Epoch 19/40\n"
     ]
    },
    {
     "name": "stderr",
     "output_type": "stream",
     "text": [
      "Training: 100%|██████████████████████████████████████████████████████████████████████████████████████████████████████████████████████████████████████| 460/460 [07:01<00:00,  1.09it/s]\n",
      "Validation: 100%|██████████████████████████████████████████████████████████████████████████████████████████████████████████████████████████████████████| 87/87 [00:08<00:00, 10.11it/s]\n"
     ]
    },
    {
     "name": "stdout",
     "output_type": "stream",
     "text": [
      "Train Loss: 0.0077, Validation Loss: 0.0097\n",
      "Train Spearman: 0.7882, Validation Spearman: 0.7675\n",
      "[INFO] Best model saved to C:\\SQuASH\\surrogate_models\\trained_models\\demo_gcn_ghz_a_2025-04-19_15-14-17\\demo_gcn_ghz_a_2025-04-19_15-14-17.pth\n",
      "\n",
      "Epoch 20/40\n"
     ]
    },
    {
     "name": "stderr",
     "output_type": "stream",
     "text": [
      "Training: 100%|██████████████████████████████████████████████████████████████████████████████████████████████████████████████████████████████████████| 460/460 [06:22<00:00,  1.20it/s]\n",
      "Validation: 100%|██████████████████████████████████████████████████████████████████████████████████████████████████████████████████████████████████████| 87/87 [00:08<00:00, 10.10it/s]\n"
     ]
    },
    {
     "name": "stdout",
     "output_type": "stream",
     "text": [
      "Train Loss: 0.0073, Validation Loss: 0.0095\n",
      "Train Spearman: 0.7948, Validation Spearman: 0.7617\n",
      "\n",
      "Epoch 21/40\n"
     ]
    },
    {
     "name": "stderr",
     "output_type": "stream",
     "text": [
      "Training: 100%|██████████████████████████████████████████████████████████████████████████████████████████████████████████████████████████████████████| 460/460 [06:23<00:00,  1.20it/s]\n",
      "Validation: 100%|██████████████████████████████████████████████████████████████████████████████████████████████████████████████████████████████████████| 87/87 [00:10<00:00,  8.44it/s]\n"
     ]
    },
    {
     "name": "stdout",
     "output_type": "stream",
     "text": [
      "Train Loss: 0.0071, Validation Loss: 0.0155\n",
      "Train Spearman: 0.7981, Validation Spearman: 0.7709\n",
      "[INFO] Best model saved to C:\\SQuASH\\surrogate_models\\trained_models\\demo_gcn_ghz_a_2025-04-19_15-14-17\\demo_gcn_ghz_a_2025-04-19_15-14-17.pth\n",
      "[INFO] Overfitting detected (1/5)\n",
      "\n",
      "Epoch 22/40\n"
     ]
    },
    {
     "name": "stderr",
     "output_type": "stream",
     "text": [
      "Training: 100%|██████████████████████████████████████████████████████████████████████████████████████████████████████████████████████████████████████| 460/460 [05:48<00:00,  1.32it/s]\n",
      "Validation: 100%|██████████████████████████████████████████████████████████████████████████████████████████████████████████████████████████████████████| 87/87 [00:11<00:00,  7.73it/s]\n"
     ]
    },
    {
     "name": "stdout",
     "output_type": "stream",
     "text": [
      "Train Loss: 0.0064, Validation Loss: 0.0132\n",
      "Train Spearman: 0.8038, Validation Spearman: 0.7695\n",
      "\n",
      "Epoch 23/40\n"
     ]
    },
    {
     "name": "stderr",
     "output_type": "stream",
     "text": [
      "Training: 100%|██████████████████████████████████████████████████████████████████████████████████████████████████████████████████████████████████████| 460/460 [05:31<00:00,  1.39it/s]\n",
      "Validation: 100%|██████████████████████████████████████████████████████████████████████████████████████████████████████████████████████████████████████| 87/87 [00:10<00:00,  8.02it/s]\n"
     ]
    },
    {
     "name": "stdout",
     "output_type": "stream",
     "text": [
      "Train Loss: 0.0060, Validation Loss: 0.0083\n",
      "Train Spearman: 0.8083, Validation Spearman: 0.7806\n",
      "[INFO] Best model saved to C:\\SQuASH\\surrogate_models\\trained_models\\demo_gcn_ghz_a_2025-04-19_15-14-17\\demo_gcn_ghz_a_2025-04-19_15-14-17.pth\n",
      "\n",
      "Epoch 24/40\n"
     ]
    },
    {
     "name": "stderr",
     "output_type": "stream",
     "text": [
      "Training: 100%|██████████████████████████████████████████████████████████████████████████████████████████████████████████████████████████████████████| 460/460 [06:27<00:00,  1.19it/s]\n",
      "Validation: 100%|██████████████████████████████████████████████████████████████████████████████████████████████████████████████████████████████████████| 87/87 [00:12<00:00,  6.89it/s]\n"
     ]
    },
    {
     "name": "stdout",
     "output_type": "stream",
     "text": [
      "Train Loss: 0.0060, Validation Loss: 0.0077\n",
      "Train Spearman: 0.8091, Validation Spearman: 0.7881\n",
      "[INFO] Best model saved to C:\\SQuASH\\surrogate_models\\trained_models\\demo_gcn_ghz_a_2025-04-19_15-14-17\\demo_gcn_ghz_a_2025-04-19_15-14-17.pth\n",
      "\n",
      "Epoch 25/40\n"
     ]
    },
    {
     "name": "stderr",
     "output_type": "stream",
     "text": [
      "Training: 100%|██████████████████████████████████████████████████████████████████████████████████████████████████████████████████████████████████████| 460/460 [05:14<00:00,  1.46it/s]\n",
      "Validation: 100%|██████████████████████████████████████████████████████████████████████████████████████████████████████████████████████████████████████| 87/87 [00:08<00:00,  9.78it/s]\n"
     ]
    },
    {
     "name": "stdout",
     "output_type": "stream",
     "text": [
      "Train Loss: 0.0052, Validation Loss: 0.0101\n",
      "Train Spearman: 0.8154, Validation Spearman: 0.7804\n",
      "[INFO] Overfitting detected (1/5)\n",
      "\n",
      "Epoch 26/40\n"
     ]
    },
    {
     "name": "stderr",
     "output_type": "stream",
     "text": [
      "Training: 100%|██████████████████████████████████████████████████████████████████████████████████████████████████████████████████████████████████████| 460/460 [05:12<00:00,  1.47it/s]\n",
      "Validation: 100%|██████████████████████████████████████████████████████████████████████████████████████████████████████████████████████████████████████| 87/87 [00:09<00:00,  9.45it/s]\n"
     ]
    },
    {
     "name": "stdout",
     "output_type": "stream",
     "text": [
      "Train Loss: 0.0051, Validation Loss: 0.0101\n",
      "Train Spearman: 0.8167, Validation Spearman: 0.7653\n",
      "\n",
      "Epoch 27/40\n"
     ]
    },
    {
     "name": "stderr",
     "output_type": "stream",
     "text": [
      "Training: 100%|██████████████████████████████████████████████████████████████████████████████████████████████████████████████████████████████████████| 460/460 [05:12<00:00,  1.47it/s]\n",
      "Validation: 100%|██████████████████████████████████████████████████████████████████████████████████████████████████████████████████████████████████████| 87/87 [00:08<00:00, 10.08it/s]\n"
     ]
    },
    {
     "name": "stdout",
     "output_type": "stream",
     "text": [
      "Train Loss: 0.0048, Validation Loss: 0.0080\n",
      "Train Spearman: 0.8204, Validation Spearman: 0.7787\n",
      "\n",
      "Epoch 28/40\n"
     ]
    },
    {
     "name": "stderr",
     "output_type": "stream",
     "text": [
      "Training: 100%|██████████████████████████████████████████████████████████████████████████████████████████████████████████████████████████████████████| 460/460 [05:15<00:00,  1.46it/s]\n",
      "Validation: 100%|██████████████████████████████████████████████████████████████████████████████████████████████████████████████████████████████████████| 87/87 [00:08<00:00,  9.71it/s]\n"
     ]
    },
    {
     "name": "stdout",
     "output_type": "stream",
     "text": [
      "Train Loss: 0.0048, Validation Loss: 0.0088\n",
      "Train Spearman: 0.8198, Validation Spearman: 0.7749\n",
      "[INFO] Overfitting detected (1/5)\n",
      "\n",
      "Epoch 29/40\n"
     ]
    },
    {
     "name": "stderr",
     "output_type": "stream",
     "text": [
      "Training: 100%|██████████████████████████████████████████████████████████████████████████████████████████████████████████████████████████████████████| 460/460 [05:16<00:00,  1.45it/s]\n",
      "Validation: 100%|██████████████████████████████████████████████████████████████████████████████████████████████████████████████████████████████████████| 87/87 [00:09<00:00,  8.99it/s]\n"
     ]
    },
    {
     "name": "stdout",
     "output_type": "stream",
     "text": [
      "Train Loss: 0.0042, Validation Loss: 0.0079\n",
      "Train Spearman: 0.8251, Validation Spearman: 0.7902\n",
      "[INFO] Best model saved to C:\\SQuASH\\surrogate_models\\trained_models\\demo_gcn_ghz_a_2025-04-19_15-14-17\\demo_gcn_ghz_a_2025-04-19_15-14-17.pth\n",
      "\n",
      "Epoch 30/40\n"
     ]
    },
    {
     "name": "stderr",
     "output_type": "stream",
     "text": [
      "Training: 100%|██████████████████████████████████████████████████████████████████████████████████████████████████████████████████████████████████████| 460/460 [05:18<00:00,  1.45it/s]\n",
      "Validation: 100%|██████████████████████████████████████████████████████████████████████████████████████████████████████████████████████████████████████| 87/87 [00:09<00:00,  9.26it/s]\n"
     ]
    },
    {
     "name": "stdout",
     "output_type": "stream",
     "text": [
      "Train Loss: 0.0041, Validation Loss: 0.0083\n",
      "Train Spearman: 0.8276, Validation Spearman: 0.7825\n",
      "[INFO] Overfitting detected (1/5)\n",
      "\n",
      "Epoch 31/40\n"
     ]
    },
    {
     "name": "stderr",
     "output_type": "stream",
     "text": [
      "Training: 100%|██████████████████████████████████████████████████████████████████████████████████████████████████████████████████████████████████████| 460/460 [05:21<00:00,  1.43it/s]\n",
      "Validation: 100%|██████████████████████████████████████████████████████████████████████████████████████████████████████████████████████████████████████| 87/87 [00:09<00:00,  9.32it/s]\n"
     ]
    },
    {
     "name": "stdout",
     "output_type": "stream",
     "text": [
      "Train Loss: 0.0041, Validation Loss: 0.0083\n",
      "Train Spearman: 0.8269, Validation Spearman: 0.7827\n",
      "\n",
      "Epoch 32/40\n"
     ]
    },
    {
     "name": "stderr",
     "output_type": "stream",
     "text": [
      "Training: 100%|██████████████████████████████████████████████████████████████████████████████████████████████████████████████████████████████████████| 460/460 [05:19<00:00,  1.44it/s]\n",
      "Validation: 100%|██████████████████████████████████████████████████████████████████████████████████████████████████████████████████████████████████████| 87/87 [00:09<00:00,  9.05it/s]\n"
     ]
    },
    {
     "name": "stdout",
     "output_type": "stream",
     "text": [
      "Train Loss: 0.0039, Validation Loss: 0.0097\n",
      "Train Spearman: 0.8290, Validation Spearman: 0.7609\n",
      "[INFO] Overfitting detected (1/5)\n",
      "\n",
      "Epoch 33/40\n"
     ]
    },
    {
     "name": "stderr",
     "output_type": "stream",
     "text": [
      "Training: 100%|██████████████████████████████████████████████████████████████████████████████████████████████████████████████████████████████████████| 460/460 [05:22<00:00,  1.43it/s]\n",
      "Validation: 100%|██████████████████████████████████████████████████████████████████████████████████████████████████████████████████████████████████████| 87/87 [00:09<00:00,  8.93it/s]\n"
     ]
    },
    {
     "name": "stdout",
     "output_type": "stream",
     "text": [
      "Train Loss: 0.0037, Validation Loss: 0.0086\n",
      "Train Spearman: 0.8311, Validation Spearman: 0.7696\n",
      "\n",
      "Epoch 34/40\n"
     ]
    },
    {
     "name": "stderr",
     "output_type": "stream",
     "text": [
      "Training: 100%|██████████████████████████████████████████████████████████████████████████████████████████████████████████████████████████████████████| 460/460 [05:24<00:00,  1.42it/s]\n",
      "Validation: 100%|██████████████████████████████████████████████████████████████████████████████████████████████████████████████████████████████████████| 87/87 [00:10<00:00,  8.50it/s]\n"
     ]
    },
    {
     "name": "stdout",
     "output_type": "stream",
     "text": [
      "Train Loss: 0.0031, Validation Loss: 0.0078\n",
      "Train Spearman: 0.8358, Validation Spearman: 0.7909\n",
      "[INFO] Best model saved to C:\\SQuASH\\surrogate_models\\trained_models\\demo_gcn_ghz_a_2025-04-19_15-14-17\\demo_gcn_ghz_a_2025-04-19_15-14-17.pth\n",
      "\n",
      "Epoch 35/40\n"
     ]
    },
    {
     "name": "stderr",
     "output_type": "stream",
     "text": [
      "Training: 100%|██████████████████████████████████████████████████████████████████████████████████████████████████████████████████████████████████████| 460/460 [05:30<00:00,  1.39it/s]\n",
      "Validation: 100%|██████████████████████████████████████████████████████████████████████████████████████████████████████████████████████████████████████| 87/87 [00:09<00:00,  8.91it/s]\n"
     ]
    },
    {
     "name": "stdout",
     "output_type": "stream",
     "text": [
      "Train Loss: 0.0030, Validation Loss: 0.0082\n",
      "Train Spearman: 0.8355, Validation Spearman: 0.7869\n",
      "[INFO] Overfitting detected (1/5)\n",
      "\n",
      "Epoch 36/40\n"
     ]
    },
    {
     "name": "stderr",
     "output_type": "stream",
     "text": [
      "Training: 100%|██████████████████████████████████████████████████████████████████████████████████████████████████████████████████████████████████████| 460/460 [05:31<00:00,  1.39it/s]\n",
      "Validation: 100%|██████████████████████████████████████████████████████████████████████████████████████████████████████████████████████████████████████| 87/87 [00:10<00:00,  8.57it/s]\n"
     ]
    },
    {
     "name": "stdout",
     "output_type": "stream",
     "text": [
      "Train Loss: 0.0034, Validation Loss: 0.0075\n",
      "Train Spearman: 0.8329, Validation Spearman: 0.7898\n",
      "\n",
      "Epoch 37/40\n"
     ]
    },
    {
     "name": "stderr",
     "output_type": "stream",
     "text": [
      "Training: 100%|██████████████████████████████████████████████████████████████████████████████████████████████████████████████████████████████████████| 460/460 [05:33<00:00,  1.38it/s]\n",
      "Validation: 100%|██████████████████████████████████████████████████████████████████████████████████████████████████████████████████████████████████████| 87/87 [00:10<00:00,  8.43it/s]\n"
     ]
    },
    {
     "name": "stdout",
     "output_type": "stream",
     "text": [
      "Train Loss: 0.0029, Validation Loss: 0.0080\n",
      "Train Spearman: 0.8373, Validation Spearman: 0.7814\n",
      "[INFO] Overfitting detected (1/5)\n",
      "\n",
      "Epoch 38/40\n"
     ]
    },
    {
     "name": "stderr",
     "output_type": "stream",
     "text": [
      "Training: 100%|██████████████████████████████████████████████████████████████████████████████████████████████████████████████████████████████████████| 460/460 [05:34<00:00,  1.38it/s]\n",
      "Validation: 100%|██████████████████████████████████████████████████████████████████████████████████████████████████████████████████████████████████████| 87/87 [00:10<00:00,  8.14it/s]\n"
     ]
    },
    {
     "name": "stdout",
     "output_type": "stream",
     "text": [
      "Train Loss: 0.0029, Validation Loss: 0.0078\n",
      "Train Spearman: 0.8373, Validation Spearman: 0.7858\n",
      "\n",
      "Epoch 39/40\n"
     ]
    },
    {
     "name": "stderr",
     "output_type": "stream",
     "text": [
      "Training: 100%|██████████████████████████████████████████████████████████████████████████████████████████████████████████████████████████████████████| 460/460 [05:33<00:00,  1.38it/s]\n",
      "Validation: 100%|██████████████████████████████████████████████████████████████████████████████████████████████████████████████████████████████████████| 87/87 [00:10<00:00,  8.36it/s]\n"
     ]
    },
    {
     "name": "stdout",
     "output_type": "stream",
     "text": [
      "Train Loss: 0.0027, Validation Loss: 0.0079\n",
      "Train Spearman: 0.8376, Validation Spearman: 0.7843\n",
      "[INFO] Overfitting detected (1/5)\n",
      "\n",
      "Epoch 40/40\n"
     ]
    },
    {
     "name": "stderr",
     "output_type": "stream",
     "text": [
      "Training: 100%|██████████████████████████████████████████████████████████████████████████████████████████████████████████████████████████████████████| 460/460 [05:37<00:00,  1.36it/s]\n",
      "Validation: 100%|██████████████████████████████████████████████████████████████████████████████████████████████████████████████████████████████████████| 87/87 [00:11<00:00,  7.85it/s]\n"
     ]
    },
    {
     "name": "stdout",
     "output_type": "stream",
     "text": [
      "Train Loss: 0.0025, Validation Loss: 0.0078\n",
      "Train Spearman: 0.8383, Validation Spearman: 0.7853\n"
     ]
    },
    {
     "name": "stderr",
     "output_type": "stream",
     "text": [
      "Testing: 100%|█████████████████████████████████████████████████████████████████████████████████████████████████████████████████████████████████████████| 29/29 [00:02<00:00,  9.80it/s]"
     ]
    },
    {
     "name": "stdout",
     "output_type": "stream",
     "text": [
      "\n",
      "Test Loss: 0.0084, Spearman: 0.7929, R2: 0.6934\n"
     ]
    },
    {
     "name": "stderr",
     "output_type": "stream",
     "text": [
      "\n"
     ]
    }
   ],
   "source": [
    "print(\"[INFO] Starting training\")\n",
    "results, loss_records = train(model_name, config, train_loader, val_loader, test_loader, nn.MSELoss(), model_logs_path)"
   ]
  },
  {
   "cell_type": "markdown",
   "id": "bb8f59f4-df51-4168-9068-a2a225e42874",
   "metadata": {},
   "source": [
    "### 📊 Step 7: Evaluate Model Performance\n",
    "\n",
    "We inspect the best achieved validation metric and performance on the test set.\n"
   ]
  },
  {
   "cell_type": "code",
   "execution_count": 10,
   "id": "d8ffc958-298e-4039-a25e-1de77795a4f6",
   "metadata": {},
   "outputs": [
    {
     "name": "stdout",
     "output_type": "stream",
     "text": [
      "\n",
      "Model: demo_gcn_ghz_a_2025-04-19_15-14-17 | Best Val: 0.7909 | Test Loss: 0.0084 | Spearman: 0.7929 | R2: 0.6934\n"
     ]
    }
   ],
   "source": [
    "for model_name, best_val, test_loss, test_spear, test_r2 in results:\n",
    "    print(\n",
    "        f\"\\nModel: {model_name} | Best Val: {best_val:.4f} | Test Loss: {test_loss:.4f} | Spearman: {test_spear:.4f} | R2: {test_r2:.4f}\")"
   ]
  },
  {
   "cell_type": "markdown",
   "id": "a7731d8a-adc0-4586-8b4b-43a386749600",
   "metadata": {},
   "source": [
    "### 💾 Step 8: Save Results\n",
    "\n",
    "Benchmark and training records are stored as pickle files."
   ]
  },
  {
   "cell_type": "code",
   "execution_count": 11,
   "id": "11fa0d32-5e6f-47e5-8bf9-2e293e5d8bed",
   "metadata": {},
   "outputs": [],
   "source": [
    "save_results(results, loss_records, search_space, model_logs_path)"
   ]
  },
  {
   "cell_type": "markdown",
   "id": "955366a4-3dec-4f7e-9556-31ca3bdb670c",
   "metadata": {},
   "source": [
    "### 📈 Step 9: Plot Training Metrics\n",
    "\n",
    "Loss and Spearman's rho are plotted over epochs to visualize training dynamics."
   ]
  },
  {
   "cell_type": "code",
   "execution_count": 12,
   "id": "80fd3095-c508-4215-83d9-5260cae57aed",
   "metadata": {},
   "outputs": [
    {
     "name": "stdout",
     "output_type": "stream",
     "text": [
      "[INFO] Loss plot is saved to C:\\SQuASH\\surrogate_models\\trained_models\\demo_gcn_ghz_a_2025-04-19_15-14-17\\demo_gcn_ghz_a_2025-04-19_15-14-17_loss.png\n"
     ]
    },
    {
     "data": {
      "image/png": "[encoded data removed]",
      "text/plain": [
       "<Figure size 1200x600 with 1 Axes>"
      ]
     },
     "metadata": {},
     "output_type": "display_data"
    },
    {
     "name": "stdout",
     "output_type": "stream",
     "text": [
      "[INFO] Spearman's rho plot is saved to C:\\SQuASH\\surrogate_models\\trained_models\\demo_gcn_ghz_a_2025-04-19_15-14-17\\demo_gcn_ghz_a_2025-04-19_15-14-17_spearman.png\n"
     ]
    },
    {
     "data": {
      "image/png": "[encoded data removed]",
      "text/plain": [
       "<Figure size 1200x600 with 1 Axes>"
      ]
     },
     "metadata": {},
     "output_type": "display_data"
    }
   ],
   "source": [
    "epochs = range(1, len(loss_records[model_name]['train_losses']) + 1)\n",
    "file_path_loss_plot = os.path.join(model_logs_path, f'{model_name}_loss.png')\n",
    "file_path_spearman_plot = os.path.join(model_logs_path, f'{model_name}_spearman.png')\n",
    "plot_metrics(file_path_loss_plot, epochs, loss_records[model_name], 'losses', 'Loss', 'Training and Validation Loss')\n",
    "plot_metrics(file_path_spearman_plot, epochs, loss_records[model_name], 'spearmans', \"Spearman's rho\", \"Training and Validation Spearman's rho\")"
   ]
  }
 ],
 "metadata": {
  "kernelspec": {
   "display_name": "Python 3 (ipykernel)",
   "language": "python",
   "name": "python3"
  },
  "language_info": {
   "codemirror_mode": {
    "name": "ipython",
    "version": 3
   },
   "file_extension": ".py",
   "mimetype": "text/x-python",
   "name": "python",
   "nbconvert_exporter": "python",
   "pygments_lexer": "ipython3",
   "version": "3.10.4"
  }
 },
 "nbformat": 4,
 "nbformat_minor": 5
}
