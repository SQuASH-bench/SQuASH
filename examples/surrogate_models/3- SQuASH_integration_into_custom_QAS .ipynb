{
 "cells": [
  {
   "cell_type": "markdown",
   "id": "18395fac-886f-4b2a-a4f2-e2a550159b74",
   "metadata": {},
   "source": [
    "## SQuASH Integration into Custom QAS "
   ]
  },
  {
   "cell_type": "markdown",
   "id": "cf960e65-2dc8-496d-b7a4-52eeff030c3b",
   "metadata": {},
   "source": [
    "In this notebook, we see on the example of reinfocement learning driven QAS method how to integrate the benchmark into the custom method. Similar to previous notebooks, we first ensure proper dependency loading. "
   ]
  },
  {
   "cell_type": "code",
   "execution_count": 2,
   "id": "610cc2c1-bf9e-45b7-950e-08dfac2af3a3",
   "metadata": {},
   "outputs": [
    {
     "name": "stdout",
     "output_type": "stream",
     "text": [
      "Project root set to: C:\\Darya\\Projects\\EniQmA\\AK3\\Paper 2025 Squash\\SQuASH\n"
     ]
    }
   ],
   "source": [
    "# Suppress PyTorch Warnings and ensure proper dependency loading\n",
    "import warnings\n",
    "import os\n",
    "import sys\n",
    "\n",
    "warnings.filterwarnings(\"ignore\")\n",
    "warnings.filterwarnings(\"ignore\", category=UserWarning)\n",
    "project_root = os.path.abspath(os.path.join(os.getcwd(), '..', '..')) # Go two levels up from the notebook location to reach project root\n",
    "\n",
    "if project_root not in sys.path:\n",
    "    sys.path.insert(0, project_root)\n",
    "print(\"Project root set to:\", project_root)"
   ]
  },
  {
   "cell_type": "code",
   "execution_count": null,
   "id": "16c383a6-072e-4134-8b6b-fffcd6dbd460",
   "metadata": {},
   "outputs": [],
   "source": []
  }
 ],
 "metadata": {
  "kernelspec": {
   "display_name": "Python 3 (ipykernel)",
   "language": "python",
   "name": "python3"
  },
  "language_info": {
   "codemirror_mode": {
    "name": "ipython",
    "version": 3
   },
   "file_extension": ".py",
   "mimetype": "text/x-python",
   "name": "python",
   "nbconvert_exporter": "python",
   "pygments_lexer": "ipython3",
   "version": "3.10.4"
  }
 },
 "nbformat": 4,
 "nbformat_minor": 5
}
