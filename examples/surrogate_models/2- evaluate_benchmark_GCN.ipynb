{
 "cells": [
  {
   "cell_type": "markdown",
   "id": "20ba5785-297c-447b-a79e-df049d39b031",
   "metadata": {},
   "source": [
    "COMING SOON"
   ]
  },
  {
   "cell_type": "code",
   "execution_count": null,
   "id": "66317746-80c1-4656-8633-0f77a8d98cbc",
   "metadata": {},
   "outputs": [],
   "source": []
  }
 ],
 "metadata": {
  "kernelspec": {
   "display_name": "Python 3 (ipykernel)",
   "language": "python",
   "name": "python3"
  },
  "language_info": {
   "codemirror_mode": {
    "name": "ipython",
    "version": 3
   },
   "file_extension": ".py",
   "mimetype": "text/x-python",
   "name": "python",
   "nbconvert_exporter": "python",
   "pygments_lexer": "ipython3",
   "version": "3.10.4"
  }
 },
 "nbformat": 4,
 "nbformat_minor": 5
}
